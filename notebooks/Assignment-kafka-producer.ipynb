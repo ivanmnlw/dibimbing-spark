{
 "cells": [
  {
   "cell_type": "code",
   "execution_count": 1,
   "id": "70e82f88-58e4-48e5-9be6-3eaf7bf18b43",
   "metadata": {
    "tags": []
   },
   "outputs": [],
   "source": [
    "import json\n",
    "import uuid\n",
    "import os\n",
    "import json\n",
    "from dotenv import load_dotenv\n",
    "from pathlib import Path\n",
    "from kafka import KafkaProducer\n",
    "from faker import Faker\n",
    "from time import sleep"
   ]
  },
  {
   "cell_type": "code",
   "execution_count": 2,
   "id": "be2050de-e703-44b4-a544-4636b1342512",
   "metadata": {
    "tags": []
   },
   "outputs": [
    {
     "data": {
      "text/plain": [
       "True"
      ]
     },
     "execution_count": 2,
     "metadata": {},
     "output_type": "execute_result"
    }
   ],
   "source": [
    "dotenv_path = Path('/resources/.env')\n",
    "load_dotenv(dotenv_path=dotenv_path)"
   ]
  },
  {
   "cell_type": "code",
   "execution_count": 3,
   "id": "a1926407-521f-40d1-a580-01dd8c65486c",
   "metadata": {
    "tags": []
   },
   "outputs": [],
   "source": [
    "kafka_host = os.getenv('KAFKA_HOST')\n",
    "kafka_topic = \"assign-topic\"\n",
    "# kafka_topic_partition = \"assign-topic-1\"\n",
    "# kafka_topic_partition = \"dibimbing_batch_6\""
   ]
  },
  {
   "cell_type": "code",
   "execution_count": 4,
   "id": "bd3b24f8-f628-4949-ba0c-82dee0f389fd",
   "metadata": {
    "tags": []
   },
   "outputs": [
    {
     "name": "stdout",
     "output_type": "stream",
     "text": [
      "dataeng-kafka\n"
     ]
    }
   ],
   "source": [
    "print(kafka_host)"
   ]
  },
  {
   "cell_type": "code",
   "execution_count": 5,
   "id": "36dca017-6149-417c-896c-9ffd397587e9",
   "metadata": {
    "tags": []
   },
   "outputs": [],
   "source": [
    "producer = KafkaProducer(bootstrap_servers=f'{kafka_host}:9092')"
   ]
  },
  {
   "cell_type": "code",
   "execution_count": 14,
   "id": "81a0ddb4-113a-46e9-accd-6c421ff5e240",
   "metadata": {
    "tags": []
   },
   "outputs": [
    {
     "name": "stdout",
     "output_type": "stream",
     "text": [
      "North Markmouth RecordMetadata(topic='assign-topic', partition=1, topic_partition=TopicPartition(topic='assign-topic', partition=1), offset=1036, timestamp=1737490360800, log_start_offset=0, checksum=None, serialized_key_size=-1, serialized_value_size=197, serialized_header_size=-1)\n",
      "Shawnmouth RecordMetadata(topic='assign-topic', partition=1, topic_partition=TopicPartition(topic='assign-topic', partition=1), offset=1037, timestamp=1737490365808, log_start_offset=0, checksum=None, serialized_key_size=-1, serialized_value_size=192, serialized_header_size=-1)\n",
      "Jacksonville RecordMetadata(topic='assign-topic', partition=1, topic_partition=TopicPartition(topic='assign-topic', partition=1), offset=1038, timestamp=1737490370813, log_start_offset=0, checksum=None, serialized_key_size=-1, serialized_value_size=192, serialized_header_size=-1)\n",
      "Martinton RecordMetadata(topic='assign-topic', partition=1, topic_partition=TopicPartition(topic='assign-topic', partition=1), offset=1039, timestamp=1737490375820, log_start_offset=0, checksum=None, serialized_key_size=-1, serialized_value_size=190, serialized_header_size=-1)\n",
      "South Jenniferview RecordMetadata(topic='assign-topic', partition=1, topic_partition=TopicPartition(topic='assign-topic', partition=1), offset=1040, timestamp=1737490380827, log_start_offset=0, checksum=None, serialized_key_size=-1, serialized_value_size=201, serialized_header_size=-1)\n",
      "Timothytown RecordMetadata(topic='assign-topic', partition=1, topic_partition=TopicPartition(topic='assign-topic', partition=1), offset=1041, timestamp=1737490385834, log_start_offset=0, checksum=None, serialized_key_size=-1, serialized_value_size=194, serialized_header_size=-1)\n",
      "Lake Kimberly RecordMetadata(topic='assign-topic', partition=1, topic_partition=TopicPartition(topic='assign-topic', partition=1), offset=1042, timestamp=1737490390842, log_start_offset=0, checksum=None, serialized_key_size=-1, serialized_value_size=194, serialized_header_size=-1)\n",
      "New Stevenberg RecordMetadata(topic='assign-topic', partition=1, topic_partition=TopicPartition(topic='assign-topic', partition=1), offset=1043, timestamp=1737490395848, log_start_offset=0, checksum=None, serialized_key_size=-1, serialized_value_size=196, serialized_header_size=-1)\n",
      "East Annette RecordMetadata(topic='assign-topic', partition=1, topic_partition=TopicPartition(topic='assign-topic', partition=1), offset=1044, timestamp=1737490400853, log_start_offset=0, checksum=None, serialized_key_size=-1, serialized_value_size=194, serialized_header_size=-1)\n",
      "Jonesfort RecordMetadata(topic='assign-topic', partition=1, topic_partition=TopicPartition(topic='assign-topic', partition=1), offset=1045, timestamp=1737490405860, log_start_offset=0, checksum=None, serialized_key_size=-1, serialized_value_size=191, serialized_header_size=-1)\n",
      "East Ashley RecordMetadata(topic='assign-topic', partition=1, topic_partition=TopicPartition(topic='assign-topic', partition=1), offset=1046, timestamp=1737490410863, log_start_offset=0, checksum=None, serialized_key_size=-1, serialized_value_size=193, serialized_header_size=-1)\n",
      "North Brian RecordMetadata(topic='assign-topic', partition=1, topic_partition=TopicPartition(topic='assign-topic', partition=1), offset=1047, timestamp=1737490415871, log_start_offset=0, checksum=None, serialized_key_size=-1, serialized_value_size=193, serialized_header_size=-1)\n"
     ]
    },
    {
     "ename": "KeyboardInterrupt",
     "evalue": "",
     "output_type": "error",
     "traceback": [
      "\u001b[0;31m---------------------------------------------------------------------------\u001b[0m",
      "\u001b[0;31mKeyboardInterrupt\u001b[0m                         Traceback (most recent call last)",
      "Cell \u001b[0;32mIn[14], line 20\u001b[0m\n\u001b[1;32m     18\u001b[0m \u001b[38;5;28mprint\u001b[39m(json_data[\u001b[38;5;124m'\u001b[39m\u001b[38;5;124mcity\u001b[39m\u001b[38;5;124m'\u001b[39m],response\u001b[38;5;241m.\u001b[39mget())\n\u001b[1;32m     19\u001b[0m \u001b[38;5;66;03m# print(_payload)\u001b[39;00m\n\u001b[0;32m---> 20\u001b[0m \u001b[43msleep\u001b[49m\u001b[43m(\u001b[49m\u001b[38;5;241;43m5\u001b[39;49m\u001b[43m)\u001b[49m\n",
      "\u001b[0;31mKeyboardInterrupt\u001b[0m: "
     ]
    }
   ],
   "source": [
    "fake = Faker()\n",
    "def generate_weather_data():\n",
    "    return {\n",
    "        'weather_id': uuid.uuid4().__str__(),\n",
    "        'city': fake.city(),\n",
    "        'temperature': round(fake.random.uniform(-10, 40), 2),  # Temperature in °C\n",
    "        'humidity': fake.random.randint(10, 100),  # Percentage\n",
    "        'wind_speed': round(fake.random.uniform(0, 20), 2),  # Speed in km/h\n",
    "        'condition': fake.random.choice(['Sunny', 'Cloudy', 'Rainy', 'Snowy', 'Windy']),\n",
    "        'timestamp': fake.iso8601()\n",
    "    }\n",
    "\n",
    "for i in range(1,400):\n",
    "    json_data = generate_weather_data()\n",
    "    _payload = json.dumps(json_data).encode(\"utf-8\")\n",
    "    response = producer.send(topic=kafka_topic, value=_payload, partition=1)\n",
    "    # response = producer.send(topic=kafka_topic_partition, value=_payload, partition=2)\n",
    "    print(json_data['city'],response.get())\n",
    "    # print(_payload)\n",
    "    sleep(5)"
   ]
  },
  {
   "cell_type": "code",
   "execution_count": null,
   "id": "d279add8-2c0a-45bf-91b2-031adfd190c8",
   "metadata": {},
   "outputs": [],
   "source": []
  }
 ],
 "metadata": {
  "kernelspec": {
   "display_name": "Python 3 (ipykernel)",
   "language": "python",
   "name": "python3"
  },
  "language_info": {
   "codemirror_mode": {
    "name": "ipython",
    "version": 3
   },
   "file_extension": ".py",
   "mimetype": "text/x-python",
   "name": "python",
   "nbconvert_exporter": "python",
   "pygments_lexer": "ipython3",
   "version": "3.10.10"
  }
 },
 "nbformat": 4,
 "nbformat_minor": 5
}
