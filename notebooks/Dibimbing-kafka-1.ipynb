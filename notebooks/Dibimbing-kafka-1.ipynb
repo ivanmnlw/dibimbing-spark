{
 "cells": [
  {
   "cell_type": "code",
   "execution_count": 6,
   "id": "25846da4-c6b2-46a5-b7d1-9809732bb1b9",
   "metadata": {
    "tags": []
   },
   "outputs": [],
   "source": [
    "import json\n",
    "import uuid\n",
    "import os\n",
    "import json\n",
    "from dotenv import load_dotenv\n",
    "from pathlib import Path\n",
    "from kafka import KafkaProducer\n",
    "from faker import Faker\n",
    "from time import sleep"
   ]
  },
  {
   "cell_type": "code",
   "execution_count": 7,
   "id": "42f97822-c06f-47e0-a0a4-87a7bf1d95a9",
   "metadata": {
    "tags": []
   },
   "outputs": [
    {
     "data": {
      "text/plain": [
       "True"
      ]
     },
     "execution_count": 7,
     "metadata": {},
     "output_type": "execute_result"
    }
   ],
   "source": [
    "dotenv_path = Path('/resources/.env')\n",
    "load_dotenv(dotenv_path=dotenv_path)"
   ]
  },
  {
   "cell_type": "code",
   "execution_count": 8,
   "id": "3f89f5a9-8c75-4a38-b48d-ad72c6a13c41",
   "metadata": {
    "tags": []
   },
   "outputs": [],
   "source": [
    "kafka_host = os.getenv('KAFKA_HOST')\n",
    "kafka_topic = os.getenv('KAFKA_TOPIC_NAME')\n",
    "kafka_topic_partition = os.getenv('KAFKA_TOPIC_NAME')+\"-1\"\n",
    "# kafka_topic_partition = \"dibimbing_batch_6\""
   ]
  },
  {
   "cell_type": "code",
   "execution_count": 9,
   "id": "a4a59d22-69c5-4e0a-b1e2-d0d77867c45b",
   "metadata": {
    "tags": []
   },
   "outputs": [
    {
     "name": "stdout",
     "output_type": "stream",
     "text": [
      "dataeng-kafka\n"
     ]
    }
   ],
   "source": [
    "print(kafka_host)"
   ]
  },
  {
   "cell_type": "code",
   "execution_count": 10,
   "id": "8515096d-3bc6-4905-98f5-eb1e6d7bfa4c",
   "metadata": {
    "tags": []
   },
   "outputs": [],
   "source": [
    "producer = KafkaProducer(bootstrap_servers=f'{kafka_host}:9092')"
   ]
  },
  {
   "cell_type": "code",
   "execution_count": 11,
   "id": "78075b5c-08c8-4c43-99a1-0689a87414c4",
   "metadata": {
    "tags": []
   },
   "outputs": [],
   "source": [
    "_instance = Faker()\n",
    "global faker\n",
    "faker = Faker()"
   ]
  },
  {
   "cell_type": "code",
   "execution_count": 22,
   "id": "503ade79-0f77-4970-8e04-ecefce397398",
   "metadata": {
    "tags": []
   },
   "outputs": [
    {
     "name": "stdout",
     "output_type": "stream",
     "text": [
      "b'{\"emp_id\": \"10cd08da-dc81-4389-ba7c-73db10f8d048\", \"employee_name\": \"Charles Ford\", \"department\": \"Sales\", \"state\": \"CA\", \"salary\": 111658, \"age\": 32, \"bonus\": 49705, \"ts\": 1328997168}'\n",
      "b'{\"emp_id\": \"278a5c38-172b-43a5-a944-10cd926567f6\", \"employee_name\": \"Stephanie Gibson\", \"department\": \"HR\", \"state\": \"IL\", \"salary\": 24277, \"age\": 58, \"bonus\": 4800, \"ts\": 276040298}'\n",
      "b'{\"emp_id\": \"8ef217f4-b2b0-46b2-90dc-49ed56557be3\", \"employee_name\": \"Kelli Hill\", \"department\": \"IT\", \"state\": \"IL\", \"salary\": 94481, \"age\": 23, \"bonus\": 47160, \"ts\": 869512092}'\n",
      "b'{\"emp_id\": \"a5e166c0-d683-4cce-9652-645fd72d7ae2\", \"employee_name\": \"Kenneth Sloan\", \"department\": \"HR\", \"state\": \"NY\", \"salary\": 102144, \"age\": 21, \"bonus\": 31380, \"ts\": 1183432242}'\n",
      "b'{\"emp_id\": \"efbb8083-2829-47a4-9f3c-601b0a745dbe\", \"employee_name\": \"Rebecca Castaneda\", \"department\": \"Marketing\", \"state\": \"CA\", \"salary\": 107549, \"age\": 50, \"bonus\": 92706, \"ts\": 1392501021}'\n",
      "b'{\"emp_id\": \"96ff0ea6-37a4-4600-bfc5-3d9d059449e4\", \"employee_name\": \"Corey Rosales\", \"department\": \"HR\", \"state\": \"CA\", \"salary\": 137701, \"age\": 50, \"bonus\": 45947, \"ts\": 1192773732}'\n",
      "b'{\"emp_id\": \"61bee690-0f67-4186-bbc8-fa23afb25d03\", \"employee_name\": \"Gregory Rodgers\", \"department\": \"IT\", \"state\": \"CA\", \"salary\": 110895, \"age\": 57, \"bonus\": 85308, \"ts\": 1364290759}'\n",
      "b'{\"emp_id\": \"b380009b-9b1b-4b0a-bc2f-07fa15f359e4\", \"employee_name\": \"Robin Christensen\", \"department\": \"Sales\", \"state\": \"FL\", \"salary\": 129279, \"age\": 43, \"bonus\": 47259, \"ts\": 827783174}'\n",
      "b'{\"emp_id\": \"1aad7230-79e7-469a-9bf9-8f80600ca693\", \"employee_name\": \"Curtis White\", \"department\": \"Sales\", \"state\": \"NY\", \"salary\": 48975, \"age\": 48, \"bonus\": 15933, \"ts\": 1291097782}'\n",
      "b'{\"emp_id\": \"0b768ea5-b697-4aa3-921f-7105206283e6\", \"employee_name\": \"Michael Hebert\", \"department\": \"HR\", \"state\": \"FL\", \"salary\": 15765, \"age\": 39, \"bonus\": 97738, \"ts\": 219784328}'\n",
      "b'{\"emp_id\": \"d83a6d0d-ac58-4542-b816-40ec7022d8c1\", \"employee_name\": \"Patrick Lamb\", \"department\": \"HR\", \"state\": \"FL\", \"salary\": 135300, \"age\": 48, \"bonus\": 76794, \"ts\": 704504152}'\n",
      "b'{\"emp_id\": \"a25eebd9-87ba-434b-b6d2-8c0ee5940b26\", \"employee_name\": \"Tyler Powell\", \"department\": \"Sales\", \"state\": \"FL\", \"salary\": 78633, \"age\": 33, \"bonus\": 66029, \"ts\": 82817803}'\n",
      "b'{\"emp_id\": \"a6e19d52-e541-484c-b6e4-56d07460e18f\", \"employee_name\": \"Gloria Hernandez\", \"department\": \"IT\", \"state\": \"FL\", \"salary\": 37490, \"age\": 30, \"bonus\": 86786, \"ts\": 707310535}'\n",
      "b'{\"emp_id\": \"34e82768-51a7-470a-ac19-2ca67904a5f2\", \"employee_name\": \"Teresa Stevenson\", \"department\": \"Marketing\", \"state\": \"CA\", \"salary\": 60701, \"age\": 28, \"bonus\": 98070, \"ts\": 374220142}'\n",
      "b'{\"emp_id\": \"70ec2c99-7cb1-42c9-8d8a-e23d2a73f3f8\", \"employee_name\": \"Hannah Rodriguez\", \"department\": \"HR\", \"state\": \"CA\", \"salary\": 46084, \"age\": 36, \"bonus\": 27263, \"ts\": 595954568}'\n",
      "b'{\"emp_id\": \"2a463342-563d-49ab-9b97-47eb0e54a603\", \"employee_name\": \"Rodney Hill\", \"department\": \"IT\", \"state\": \"RJ\", \"salary\": 75001, \"age\": 48, \"bonus\": 67395, \"ts\": 890769986}'\n",
      "b'{\"emp_id\": \"5143b49f-8b96-4509-a407-3597572ebae6\", \"employee_name\": \"Haley Foster\", \"department\": \"Marketing\", \"state\": \"CA\", \"salary\": 96836, \"age\": 41, \"bonus\": 1450, \"ts\": 730280715}'\n",
      "b'{\"emp_id\": \"eeb5cb57-c2c2-4423-afe8-4b6dcf2ad767\", \"employee_name\": \"Ryan Hood\", \"department\": \"IT\", \"state\": \"TX\", \"salary\": 108659, \"age\": 21, \"bonus\": 37070, \"ts\": 1669562724}'\n",
      "b'{\"emp_id\": \"73bbccb5-0fc4-421e-a025-8508c4fd481d\", \"employee_name\": \"Michael Ramirez\", \"department\": \"HR\", \"state\": \"RJ\", \"salary\": 141254, \"age\": 45, \"bonus\": 7949, \"ts\": 1093335485}'\n",
      "b'{\"emp_id\": \"6ca2bc15-0c03-4737-b292-2b7275591fed\", \"employee_name\": \"April Sanders\", \"department\": \"HR\", \"state\": \"RJ\", \"salary\": 90859, \"age\": 48, \"bonus\": 71699, \"ts\": 1501344543}'\n"
     ]
    },
    {
     "ename": "KeyboardInterrupt",
     "evalue": "",
     "output_type": "error",
     "traceback": [
      "\u001b[0;31m---------------------------------------------------------------------------\u001b[0m",
      "\u001b[0;31mKeyboardInterrupt\u001b[0m                         Traceback (most recent call last)",
      "Cell \u001b[0;32mIn[22], line 34\u001b[0m\n\u001b[1;32m     31\u001b[0m \u001b[38;5;66;03m# response = producer.send(topic=kafka_topic_partition, value=_payload, partition=2)\u001b[39;00m\n\u001b[1;32m     32\u001b[0m \u001b[38;5;66;03m# print(json_data['emp_id'],response.get())\u001b[39;00m\n\u001b[1;32m     33\u001b[0m \u001b[38;5;28mprint\u001b[39m(_payload)\n\u001b[0;32m---> 34\u001b[0m \u001b[43msleep\u001b[49m\u001b[43m(\u001b[49m\u001b[38;5;241;43m2\u001b[39;49m\u001b[43m)\u001b[49m\n",
      "\u001b[0;31mKeyboardInterrupt\u001b[0m: "
     ]
    }
   ],
   "source": [
    "class DataGenerator(object):\n",
    "    @staticmethod\n",
    "    def get_data():\n",
    "        return [\n",
    "                uuid.uuid4().__str__(),\n",
    "                faker.name(),\n",
    "                faker.random_element(elements=('IT', 'HR', 'Sales', 'Marketing')),\n",
    "                faker.random_element(elements=('CA', 'NY', 'TX', 'FL', 'IL', 'RJ')),\n",
    "                faker.random_int(min=10000, max=150000),\n",
    "                faker.random_int(min=18, max=60),\n",
    "                faker.random_int(min=0, max=100000),\n",
    "                faker.unix_time()\n",
    "        ]\n",
    "\n",
    "for i in range(1,400):\n",
    "    columns =  [\"emp_id\", \"employee_name\", \"department\", \"state\", \"salary\", \"age\", \"bonus\", \"ts\", \"new\"]\n",
    "    data_list = DataGenerator.get_data()\n",
    "    json_data = dict(\n",
    "        zip(columns,data_list)\n",
    "    )\n",
    "    _payload = json.dumps(json_data).encode(\"utf-8\")\n",
    "    response = producer.send(topic=kafka_topic, value=_payload)\n",
    "    print(_payload)\n",
    "    \n",
    "    data_list = DataGenerator.get_data()\n",
    "    json_data = dict(\n",
    "        zip(columns,data_list)\n",
    "    )\n",
    "    _payload = json.dumps(json_data).encode(\"utf-8\")\n",
    "    response = producer.send(topic=kafka_topic, value=_payload)\n",
    "    # response = producer.send(topic=kafka_topic_partition, value=_payload, partition=2)\n",
    "    # print(json_data['emp_id'],response.get())\n",
    "    print(_payload)\n",
    "    sleep(2)"
   ]
  },
  {
   "cell_type": "code",
   "execution_count": null,
   "id": "be1f121f-6f90-441c-a027-c095f5903ac9",
   "metadata": {},
   "outputs": [],
   "source": []
  }
 ],
 "metadata": {
  "kernelspec": {
   "display_name": "Python 3 (ipykernel)",
   "language": "python",
   "name": "python3"
  },
  "language_info": {
   "codemirror_mode": {
    "name": "ipython",
    "version": 3
   },
   "file_extension": ".py",
   "mimetype": "text/x-python",
   "name": "python",
   "nbconvert_exporter": "python",
   "pygments_lexer": "ipython3",
   "version": "3.10.10"
  }
 },
 "nbformat": 4,
 "nbformat_minor": 5
}
