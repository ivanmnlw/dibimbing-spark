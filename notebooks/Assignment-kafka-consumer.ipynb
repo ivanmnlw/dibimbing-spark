{
 "cells": [
  {
   "cell_type": "code",
   "execution_count": 1,
   "id": "c9fc5409-3d64-4093-8ac7-062883ed804f",
   "metadata": {
    "tags": []
   },
   "outputs": [],
   "source": [
    "import json\n",
    "import uuid\n",
    "import os\n",
    "import json\n",
    "from dotenv import load_dotenv\n",
    "from pathlib import Path\n",
    "from kafka import KafkaProducer\n",
    "from faker import Faker\n",
    "from time import sleep"
   ]
  },
  {
   "cell_type": "code",
   "execution_count": 2,
   "id": "d7dba22f-34f8-4fe5-aff3-6239e3d8edb1",
   "metadata": {
    "tags": []
   },
   "outputs": [
    {
     "data": {
      "text/plain": [
       "True"
      ]
     },
     "execution_count": 2,
     "metadata": {},
     "output_type": "execute_result"
    }
   ],
   "source": [
    "dotenv_path = Path('/resources/.env')\n",
    "load_dotenv(dotenv_path=dotenv_path)"
   ]
  },
  {
   "cell_type": "code",
   "execution_count": 3,
   "id": "c8f18908-7d5e-4ba6-a7b6-54ddc5ea2534",
   "metadata": {
    "tags": []
   },
   "outputs": [],
   "source": [
    "kafka_host = os.getenv('KAFKA_HOST')\n",
    "kafka_topic = \"assign-topic\"\n",
    "# kafka_topic_partition = \"assign-topic-1\"\n",
    "# kafka_topic_partition = \"dibimbing_batch_6\""
   ]
  },
  {
   "cell_type": "code",
   "execution_count": 4,
   "id": "d30c27c9-1eaa-4c4c-849f-3d4d808291a6",
   "metadata": {
    "tags": []
   },
   "outputs": [],
   "source": [
    "from kafka import KafkaConsumer\n",
    "\n",
    "# To consume latest messages and auto-commit offsets\n",
    "consumer1 = KafkaConsumer(kafka_topic,\n",
    "                         group_id='assignment-group',\n",
    "                         bootstrap_servers=[f'{kafka_host}:9092'])\n",
    "consumer2 = KafkaConsumer(kafka_topic,\n",
    "                         group_id='assignment-group',\n",
    "                         bootstrap_servers=[f'{kafka_host}:9092'])"
   ]
  },
  {
   "cell_type": "code",
   "execution_count": 6,
   "id": "0f7df4a4-8f60-4122-8600-9ab6f4146c77",
   "metadata": {
    "tags": []
   },
   "outputs": [
    {
     "name": "stdout",
     "output_type": "stream",
     "text": [
      "assign-topic:1:733: key=None value=b'{\"city\": \"Douglaschester\", \"temperature\": 34.8, \"humidity\": 81, \"wind_speed\": 8.09, \"condition\": \"Rainy\", \"timestamp\": \"1975-10-05T03:07:32\"}'\n",
      "assign-topic:1:734: key=None value=b'{\"city\": \"East Steven\", \"temperature\": 39.36, \"humidity\": 50, \"wind_speed\": 17.67, \"condition\": \"Snowy\", \"timestamp\": \"2012-07-06T14:31:15\"}'\n",
      "assign-topic:1:735: key=None value=b'{\"city\": \"Davidstad\", \"temperature\": 2.65, \"humidity\": 97, \"wind_speed\": 13.91, \"condition\": \"Snowy\", \"timestamp\": \"2004-10-30T04:00:58\"}'\n",
      "assign-topic:1:736: key=None value=b'{\"city\": \"West Dorothy\", \"temperature\": 6.25, \"humidity\": 67, \"wind_speed\": 6.71, \"condition\": \"Snowy\", \"timestamp\": \"2017-01-28T05:04:30\"}'\n",
      "assign-topic:1:737: key=None value=b'{\"city\": \"Jameston\", \"temperature\": 28.79, \"humidity\": 70, \"wind_speed\": 15.47, \"condition\": \"Windy\", \"timestamp\": \"1972-03-17T22:16:52\"}'\n",
      "assign-topic:1:738: key=None value=b'{\"city\": \"East Emily\", \"temperature\": 25.51, \"humidity\": 66, \"wind_speed\": 16.01, \"condition\": \"Windy\", \"timestamp\": \"1984-12-27T09:04:27\"}'\n",
      "assign-topic:1:739: key=None value=b'{\"city\": \"Caldwellhaven\", \"temperature\": -4.98, \"humidity\": 77, \"wind_speed\": 2.66, \"condition\": \"Cloudy\", \"timestamp\": \"1971-06-15T23:24:05\"}'\n",
      "assign-topic:1:740: key=None value=b'{\"city\": \"New Christophermouth\", \"temperature\": 12.67, \"humidity\": 45, \"wind_speed\": 17.76, \"condition\": \"Rainy\", \"timestamp\": \"2000-07-28T13:01:37\"}'\n",
      "assign-topic:1:741: key=None value=b'{\"city\": \"Lake Taraside\", \"temperature\": 29.43, \"humidity\": 52, \"wind_speed\": 17.44, \"condition\": \"Rainy\", \"timestamp\": \"1975-05-27T08:43:23\"}'\n",
      "assign-topic:1:742: key=None value=b'{\"city\": \"Port Heatherton\", \"temperature\": 3.56, \"humidity\": 18, \"wind_speed\": 17.51, \"condition\": \"Windy\", \"timestamp\": \"1989-01-17T01:23:18\"}'\n",
      "assign-topic:1:743: key=None value=b'{\"city\": \"Garciafurt\", \"temperature\": 12.03, \"humidity\": 26, \"wind_speed\": 18.13, \"condition\": \"Rainy\", \"timestamp\": \"2015-02-03T21:06:52\"}'\n",
      "assign-topic:1:744: key=None value=b'{\"city\": \"East Crystalton\", \"temperature\": 10.52, \"humidity\": 86, \"wind_speed\": 18.19, \"condition\": \"Cloudy\", \"timestamp\": \"1977-04-24T10:38:55\"}'\n",
      "assign-topic:1:745: key=None value=b'{\"city\": \"East Samanthastad\", \"temperature\": -9.02, \"humidity\": 10, \"wind_speed\": 7.04, \"condition\": \"Cloudy\", \"timestamp\": \"2003-11-05T14:35:56\"}'\n",
      "assign-topic:1:746: key=None value=b'{\"city\": \"East Michaelchester\", \"temperature\": 29.65, \"humidity\": 19, \"wind_speed\": 0.25, \"condition\": \"Sunny\", \"timestamp\": \"1972-10-26T18:08:43\"}'\n",
      "assign-topic:1:747: key=None value=b'{\"city\": \"New Jessefort\", \"temperature\": 9.55, \"humidity\": 12, \"wind_speed\": 14.59, \"condition\": \"Windy\", \"timestamp\": \"1978-10-14T18:56:35\"}'\n",
      "assign-topic:1:748: key=None value=b'{\"city\": \"South Eduardo\", \"temperature\": 27.23, \"humidity\": 47, \"wind_speed\": 15.19, \"condition\": \"Snowy\", \"timestamp\": \"2014-08-22T12:38:33\"}'\n",
      "assign-topic:1:749: key=None value=b'{\"city\": \"South Samantha\", \"temperature\": 17.52, \"humidity\": 11, \"wind_speed\": 3.73, \"condition\": \"Windy\", \"timestamp\": \"1998-02-12T12:20:43\"}'\n",
      "assign-topic:1:750: key=None value=b'{\"city\": \"Laurenborough\", \"temperature\": 6.99, \"humidity\": 90, \"wind_speed\": 13.46, \"condition\": \"Rainy\", \"timestamp\": \"1972-10-15T17:11:17\"}'\n",
      "assign-topic:1:751: key=None value=b'{\"city\": \"Jacobview\", \"temperature\": -7.67, \"humidity\": 73, \"wind_speed\": 17.85, \"condition\": \"Windy\", \"timestamp\": \"1976-09-24T17:45:03\"}'\n",
      "assign-topic:1:752: key=None value=b'{\"city\": \"South Kennethstad\", \"temperature\": -5.87, \"humidity\": 87, \"wind_speed\": 9.92, \"condition\": \"Rainy\", \"timestamp\": \"1978-11-29T01:47:55\"}'\n",
      "assign-topic:1:753: key=None value=b'{\"city\": \"East Joshua\", \"temperature\": 5.04, \"humidity\": 58, \"wind_speed\": 18.48, \"condition\": \"Sunny\", \"timestamp\": \"1971-09-22T13:37:12\"}'\n",
      "assign-topic:1:754: key=None value=b'{\"city\": \"North Joshua\", \"temperature\": -9.18, \"humidity\": 66, \"wind_speed\": 16.2, \"condition\": \"Windy\", \"timestamp\": \"2015-09-01T17:46:55\"}'\n",
      "assign-topic:1:755: key=None value=b'{\"city\": \"North Reneeport\", \"temperature\": 2.84, \"humidity\": 49, \"wind_speed\": 5.44, \"condition\": \"Rainy\", \"timestamp\": \"2017-01-20T00:00:36\"}'\n",
      "assign-topic:1:756: key=None value=b'{\"city\": \"Port Claudiamouth\", \"temperature\": 36.83, \"humidity\": 92, \"wind_speed\": 11.91, \"condition\": \"Rainy\", \"timestamp\": \"1997-05-06T21:33:37\"}'\n",
      "assign-topic:1:757: key=None value=b'{\"city\": \"South Erik\", \"temperature\": 16.46, \"humidity\": 68, \"wind_speed\": 7.4, \"condition\": \"Snowy\", \"timestamp\": \"2001-04-06T20:23:56\"}'\n",
      "assign-topic:1:758: key=None value=b'{\"city\": \"West Jacobton\", \"temperature\": -8.32, \"humidity\": 63, \"wind_speed\": 0.27, \"condition\": \"Sunny\", \"timestamp\": \"1972-12-12T23:40:38\"}'\n",
      "assign-topic:1:759: key=None value=b'{\"city\": \"Deanshire\", \"temperature\": 9.32, \"humidity\": 10, \"wind_speed\": 7.33, \"condition\": \"Rainy\", \"timestamp\": \"2016-12-29T14:46:26\"}'\n",
      "assign-topic:1:760: key=None value=b'{\"city\": \"Wilsonton\", \"temperature\": 32.55, \"humidity\": 24, \"wind_speed\": 11.94, \"condition\": \"Rainy\", \"timestamp\": \"1995-11-16T08:30:58\"}'\n",
      "assign-topic:1:761: key=None value=b'{\"city\": \"Nicholasmouth\", \"temperature\": 15.61, \"humidity\": 90, \"wind_speed\": 12.27, \"condition\": \"Rainy\", \"timestamp\": \"1989-01-10T23:58:09\"}'\n",
      "assign-topic:1:762: key=None value=b'{\"city\": \"Richardsontown\", \"temperature\": 36.71, \"humidity\": 18, \"wind_speed\": 9.92, \"condition\": \"Sunny\", \"timestamp\": \"1987-01-29T23:00:40\"}'\n",
      "assign-topic:1:763: key=None value=b'{\"city\": \"Leonardberg\", \"temperature\": 19.3, \"humidity\": 73, \"wind_speed\": 3.17, \"condition\": \"Cloudy\", \"timestamp\": \"2004-03-16T23:09:28\"}'\n",
      "assign-topic:1:764: key=None value=b'{\"city\": \"Ashleyville\", \"temperature\": 39.67, \"humidity\": 60, \"wind_speed\": 19.55, \"condition\": \"Snowy\", \"timestamp\": \"2024-12-15T11:06:51\"}'\n",
      "assign-topic:1:765: key=None value=b'{\"city\": \"Lake Jason\", \"temperature\": 29.79, \"humidity\": 22, \"wind_speed\": 11.11, \"condition\": \"Sunny\", \"timestamp\": \"1970-01-13T05:26:18\"}'\n",
      "assign-topic:1:766: key=None value=b'{\"city\": \"Browningstad\", \"temperature\": 6.63, \"humidity\": 94, \"wind_speed\": 4.05, \"condition\": \"Rainy\", \"timestamp\": \"1982-12-25T06:31:30\"}'\n",
      "assign-topic:1:767: key=None value=b'{\"city\": \"Hamiltonmouth\", \"temperature\": 31.89, \"humidity\": 42, \"wind_speed\": 19.34, \"condition\": \"Windy\", \"timestamp\": \"2009-10-01T17:06:42\"}'\n",
      "assign-topic:1:768: key=None value=b'{\"city\": \"North Linda\", \"temperature\": 39.56, \"humidity\": 56, \"wind_speed\": 1.36, \"condition\": \"Rainy\", \"timestamp\": \"2014-11-16T19:33:15\"}'\n",
      "assign-topic:1:769: key=None value=b'{\"city\": \"Lake Emily\", \"temperature\": 3.13, \"humidity\": 19, \"wind_speed\": 6.96, \"condition\": \"Windy\", \"timestamp\": \"1984-04-12T17:19:57\"}'\n",
      "assign-topic:1:770: key=None value=b'{\"city\": \"Johnsonmouth\", \"temperature\": 8.6, \"humidity\": 20, \"wind_speed\": 15.19, \"condition\": \"Rainy\", \"timestamp\": \"1994-07-04T15:45:28\"}'\n",
      "assign-topic:1:771: key=None value=b'{\"city\": \"Rachelberg\", \"temperature\": -8.87, \"humidity\": 70, \"wind_speed\": 19.64, \"condition\": \"Windy\", \"timestamp\": \"2003-10-05T20:53:39\"}'\n",
      "assign-topic:1:772: key=None value=b'{\"city\": \"East Tylerbury\", \"temperature\": -0.54, \"humidity\": 39, \"wind_speed\": 14.59, \"condition\": \"Sunny\", \"timestamp\": \"2004-08-21T03:32:37\"}'\n",
      "assign-topic:1:773: key=None value=b'{\"city\": \"Clarkemouth\", \"temperature\": 21.34, \"humidity\": 65, \"wind_speed\": 5.96, \"condition\": \"Sunny\", \"timestamp\": \"1983-01-17T05:45:43\"}'\n",
      "assign-topic:1:774: key=None value=b'{\"city\": \"Dustinton\", \"temperature\": 26.84, \"humidity\": 30, \"wind_speed\": 5.57, \"condition\": \"Sunny\", \"timestamp\": \"2012-07-18T23:48:09\"}'\n",
      "assign-topic:1:775: key=None value=b'{\"city\": \"New Robert\", \"temperature\": 20.0, \"humidity\": 89, \"wind_speed\": 12.31, \"condition\": \"Sunny\", \"timestamp\": \"1996-08-12T11:19:09\"}'\n",
      "assign-topic:1:776: key=None value=b'{\"city\": \"Chentown\", \"temperature\": 11.16, \"humidity\": 99, \"wind_speed\": 3.49, \"condition\": \"Windy\", \"timestamp\": \"1990-08-22T09:57:36\"}'\n",
      "assign-topic:1:777: key=None value=b'{\"city\": \"South Anthony\", \"temperature\": 30.91, \"humidity\": 58, \"wind_speed\": 12.01, \"condition\": \"Cloudy\", \"timestamp\": \"1982-12-30T22:35:32\"}'\n",
      "assign-topic:1:778: key=None value=b'{\"city\": \"East Edwardstad\", \"temperature\": -5.44, \"humidity\": 25, \"wind_speed\": 7.82, \"condition\": \"Sunny\", \"timestamp\": \"1994-02-02T08:15:40\"}'\n",
      "assign-topic:1:779: key=None value=b'{\"city\": \"Lake Jennifermouth\", \"temperature\": 16.73, \"humidity\": 33, \"wind_speed\": 13.04, \"condition\": \"Sunny\", \"timestamp\": \"1977-12-06T16:48:50\"}'\n",
      "assign-topic:1:780: key=None value=b'{\"city\": \"South Catherinemouth\", \"temperature\": 27.82, \"humidity\": 56, \"wind_speed\": 15.92, \"condition\": \"Sunny\", \"timestamp\": \"1983-05-17T20:11:06\"}'\n",
      "assign-topic:1:781: key=None value=b'{\"city\": \"Taraton\", \"temperature\": 17.39, \"humidity\": 23, \"wind_speed\": 3.88, \"condition\": \"Snowy\", \"timestamp\": \"1976-05-18T11:59:57\"}'\n",
      "assign-topic:1:782: key=None value=b'{\"city\": \"Robertoberg\", \"temperature\": -2.78, \"humidity\": 100, \"wind_speed\": 14.22, \"condition\": \"Rainy\", \"timestamp\": \"1978-11-20T10:04:59\"}'\n",
      "assign-topic:1:783: key=None value=b'{\"city\": \"Christyton\", \"temperature\": 12.52, \"humidity\": 43, \"wind_speed\": 1.23, \"condition\": \"Sunny\", \"timestamp\": \"2003-06-01T13:59:48\"}'\n",
      "assign-topic:1:784: key=None value=b'{\"city\": \"West Abigailtown\", \"temperature\": 24.26, \"humidity\": 64, \"wind_speed\": 2.88, \"condition\": \"Sunny\", \"timestamp\": \"2007-04-01T02:50:28\"}'\n",
      "assign-topic:1:785: key=None value=b'{\"city\": \"Tashaland\", \"temperature\": 2.36, \"humidity\": 60, \"wind_speed\": 5.0, \"condition\": \"Rainy\", \"timestamp\": \"2010-03-27T19:41:40\"}'\n",
      "assign-topic:1:786: key=None value=b'{\"city\": \"Lake Vicki\", \"temperature\": -0.6, \"humidity\": 61, \"wind_speed\": 6.66, \"condition\": \"Sunny\", \"timestamp\": \"1983-02-22T06:16:31\"}'\n",
      "assign-topic:1:787: key=None value=b'{\"city\": \"Stevenhaven\", \"temperature\": 29.55, \"humidity\": 48, \"wind_speed\": 13.65, \"condition\": \"Rainy\", \"timestamp\": \"1993-02-14T14:17:45\"}'\n",
      "assign-topic:1:788: key=None value=b'{\"city\": \"North Brad\", \"temperature\": 23.12, \"humidity\": 65, \"wind_speed\": 3.25, \"condition\": \"Windy\", \"timestamp\": \"2006-12-28T02:10:24\"}'\n",
      "assign-topic:1:789: key=None value=b'{\"city\": \"Graceland\", \"temperature\": 6.05, \"humidity\": 82, \"wind_speed\": 17.04, \"condition\": \"Snowy\", \"timestamp\": \"1994-07-19T21:31:43\"}'\n",
      "assign-topic:1:790: key=None value=b'{\"city\": \"West Todd\", \"temperature\": 5.99, \"humidity\": 52, \"wind_speed\": 4.32, \"condition\": \"Cloudy\", \"timestamp\": \"2005-04-04T16:20:24\"}'\n",
      "assign-topic:1:791: key=None value=b'{\"city\": \"West Richardburgh\", \"temperature\": 13.68, \"humidity\": 14, \"wind_speed\": 19.12, \"condition\": \"Windy\", \"timestamp\": \"2004-05-09T09:02:48\"}'\n",
      "assign-topic:1:792: key=None value=b'{\"city\": \"Charlesport\", \"temperature\": 37.54, \"humidity\": 38, \"wind_speed\": 11.3, \"condition\": \"Rainy\", \"timestamp\": \"1975-08-06T15:39:49\"}'\n",
      "assign-topic:1:793: key=None value=b'{\"city\": \"East Janice\", \"temperature\": 5.23, \"humidity\": 84, \"wind_speed\": 10.47, \"condition\": \"Snowy\", \"timestamp\": \"2016-01-19T04:32:36\"}'\n",
      "assign-topic:1:794: key=None value=b'{\"city\": \"Sandraport\", \"temperature\": -3.49, \"humidity\": 36, \"wind_speed\": 14.13, \"condition\": \"Cloudy\", \"timestamp\": \"1975-05-18T23:39:04\"}'\n",
      "assign-topic:1:795: key=None value=b'{\"city\": \"Adamsshire\", \"temperature\": 3.0, \"humidity\": 42, \"wind_speed\": 5.24, \"condition\": \"Snowy\", \"timestamp\": \"1987-02-01T04:59:49\"}'\n",
      "assign-topic:1:796: key=None value=b'{\"city\": \"Walterschester\", \"temperature\": 11.33, \"humidity\": 33, \"wind_speed\": 15.32, \"condition\": \"Cloudy\", \"timestamp\": \"2022-05-10T03:32:05\"}'\n",
      "assign-topic:1:797: key=None value=b'{\"city\": \"Elizabethfort\", \"temperature\": 19.71, \"humidity\": 83, \"wind_speed\": 12.08, \"condition\": \"Windy\", \"timestamp\": \"1991-03-30T16:25:01\"}'\n",
      "assign-topic:1:798: key=None value=b'{\"city\": \"Maryhaven\", \"temperature\": 37.18, \"humidity\": 25, \"wind_speed\": 0.77, \"condition\": \"Rainy\", \"timestamp\": \"2001-09-13T02:18:16\"}'\n",
      "assign-topic:1:799: key=None value=b'{\"city\": \"West Georgeshire\", \"temperature\": 0.7, \"humidity\": 38, \"wind_speed\": 13.19, \"condition\": \"Sunny\", \"timestamp\": \"2002-08-07T08:41:36\"}'\n",
      "assign-topic:1:800: key=None value=b'{\"city\": \"Dyertown\", \"temperature\": 36.94, \"humidity\": 40, \"wind_speed\": 13.11, \"condition\": \"Cloudy\", \"timestamp\": \"2012-11-22T00:03:03\"}'\n",
      "assign-topic:1:801: key=None value=b'{\"city\": \"South Justintown\", \"temperature\": 2.98, \"humidity\": 57, \"wind_speed\": 3.74, \"condition\": \"Cloudy\", \"timestamp\": \"2016-07-29T13:20:05\"}'\n",
      "assign-topic:1:802: key=None value=b'{\"city\": \"East Benjamin\", \"temperature\": 5.05, \"humidity\": 16, \"wind_speed\": 1.87, \"condition\": \"Cloudy\", \"timestamp\": \"2012-07-03T22:35:39\"}'\n",
      "assign-topic:1:803: key=None value=b'{\"city\": \"Christopherfort\", \"temperature\": 34.96, \"humidity\": 95, \"wind_speed\": 11.17, \"condition\": \"Rainy\", \"timestamp\": \"1987-12-11T12:41:47\"}'\n",
      "assign-topic:1:804: key=None value=b'{\"city\": \"West Katherine\", \"temperature\": 1.09, \"humidity\": 83, \"wind_speed\": 13.05, \"condition\": \"Cloudy\", \"timestamp\": \"2015-03-26T11:36:03\"}'\n",
      "assign-topic:1:805: key=None value=b'{\"city\": \"North Kellyfort\", \"temperature\": 9.32, \"humidity\": 80, \"wind_speed\": 16.75, \"condition\": \"Sunny\", \"timestamp\": \"2001-07-07T01:54:17\"}'\n",
      "assign-topic:1:806: key=None value=b'{\"city\": \"Dunnhaven\", \"temperature\": 35.87, \"humidity\": 68, \"wind_speed\": 6.42, \"condition\": \"Snowy\", \"timestamp\": \"1973-11-07T12:51:25\"}'\n",
      "assign-topic:1:807: key=None value=b'{\"city\": \"Jenniferfurt\", \"temperature\": 30.0, \"humidity\": 53, \"wind_speed\": 18.11, \"condition\": \"Windy\", \"timestamp\": \"1989-07-20T02:09:17\"}'\n",
      "assign-topic:1:808: key=None value=b'{\"city\": \"West Dylan\", \"temperature\": 38.98, \"humidity\": 36, \"wind_speed\": 1.73, \"condition\": \"Cloudy\", \"timestamp\": \"1992-11-29T21:14:59\"}'\n",
      "assign-topic:1:809: key=None value=b'{\"city\": \"Jordanport\", \"temperature\": 28.45, \"humidity\": 34, \"wind_speed\": 14.7, \"condition\": \"Snowy\", \"timestamp\": \"2019-11-24T23:42:30\"}'\n",
      "assign-topic:1:810: key=None value=b'{\"city\": \"Hendersonland\", \"temperature\": 12.72, \"humidity\": 50, \"wind_speed\": 16.84, \"condition\": \"Cloudy\", \"timestamp\": \"2014-11-23T09:05:09\"}'\n",
      "assign-topic:1:811: key=None value=b'{\"city\": \"Lake Sarahmouth\", \"temperature\": -6.31, \"humidity\": 18, \"wind_speed\": 5.91, \"condition\": \"Windy\", \"timestamp\": \"1974-09-26T06:47:48\"}'\n",
      "assign-topic:1:812: key=None value=b'{\"city\": \"Darlenetown\", \"temperature\": 28.91, \"humidity\": 87, \"wind_speed\": 2.33, \"condition\": \"Rainy\", \"timestamp\": \"2015-11-30T19:29:36\"}'\n",
      "assign-topic:1:813: key=None value=b'{\"city\": \"Amandachester\", \"temperature\": -3.01, \"humidity\": 47, \"wind_speed\": 16.19, \"condition\": \"Rainy\", \"timestamp\": \"2014-09-23T01:11:30\"}'\n",
      "assign-topic:1:814: key=None value=b'{\"city\": \"East James\", \"temperature\": 39.61, \"humidity\": 55, \"wind_speed\": 7.42, \"condition\": \"Cloudy\", \"timestamp\": \"2012-06-10T08:07:44\"}'\n",
      "assign-topic:1:815: key=None value=b'{\"city\": \"Port Joanne\", \"temperature\": 31.46, \"humidity\": 52, \"wind_speed\": 6.25, \"condition\": \"Snowy\", \"timestamp\": \"2024-09-04T03:45:15\"}'\n",
      "assign-topic:1:816: key=None value=b'{\"city\": \"Christopherville\", \"temperature\": 0.92, \"humidity\": 81, \"wind_speed\": 1.04, \"condition\": \"Rainy\", \"timestamp\": \"2005-03-20T14:19:03\"}'\n",
      "assign-topic:1:817: key=None value=b'{\"city\": \"Jordanbury\", \"temperature\": 8.35, \"humidity\": 51, \"wind_speed\": 19.04, \"condition\": \"Sunny\", \"timestamp\": \"1977-08-27T12:50:22\"}'\n",
      "assign-topic:1:818: key=None value=b'{\"city\": \"Pachecochester\", \"temperature\": 2.75, \"humidity\": 65, \"wind_speed\": 4.25, \"condition\": \"Windy\", \"timestamp\": \"2012-10-02T08:19:34\"}'\n",
      "assign-topic:1:819: key=None value=b'{\"city\": \"Caseystad\", \"temperature\": -4.15, \"humidity\": 79, \"wind_speed\": 13.31, \"condition\": \"Snowy\", \"timestamp\": \"2022-09-13T13:32:13\"}'\n",
      "assign-topic:1:820: key=None value=b'{\"city\": \"Deborahshire\", \"temperature\": 1.78, \"humidity\": 30, \"wind_speed\": 8.93, \"condition\": \"Rainy\", \"timestamp\": \"1982-01-11T14:50:29\"}'\n",
      "assign-topic:1:821: key=None value=b'{\"city\": \"South Katie\", \"temperature\": 4.72, \"humidity\": 97, \"wind_speed\": 18.52, \"condition\": \"Windy\", \"timestamp\": \"2018-07-19T00:30:25\"}'\n",
      "assign-topic:1:822: key=None value=b'{\"city\": \"Lewischester\", \"temperature\": 28.37, \"humidity\": 28, \"wind_speed\": 12.27, \"condition\": \"Cloudy\", \"timestamp\": \"1987-12-21T09:46:04\"}'\n",
      "assign-topic:1:823: key=None value=b'{\"city\": \"East Kimberlyport\", \"temperature\": 15.68, \"humidity\": 95, \"wind_speed\": 10.05, \"condition\": \"Windy\", \"timestamp\": \"2012-10-30T19:38:25\"}'\n",
      "assign-topic:1:824: key=None value=b'{\"city\": \"Melissafurt\", \"temperature\": 7.69, \"humidity\": 83, \"wind_speed\": 19.13, \"condition\": \"Snowy\", \"timestamp\": \"2000-07-10T21:46:01\"}'\n",
      "assign-topic:1:825: key=None value=b'{\"city\": \"Robertsburgh\", \"temperature\": 31.82, \"humidity\": 86, \"wind_speed\": 6.93, \"condition\": \"Windy\", \"timestamp\": \"1976-11-11T08:11:22\"}'\n",
      "assign-topic:1:826: key=None value=b'{\"city\": \"Margaretberg\", \"temperature\": 12.47, \"humidity\": 65, \"wind_speed\": 13.29, \"condition\": \"Sunny\", \"timestamp\": \"1975-06-05T07:48:19\"}'\n",
      "assign-topic:1:827: key=None value=b'{\"city\": \"Conleyton\", \"temperature\": 26.74, \"humidity\": 73, \"wind_speed\": 10.72, \"condition\": \"Sunny\", \"timestamp\": \"1977-05-28T21:42:27\"}'\n",
      "assign-topic:1:828: key=None value=b'{\"city\": \"South Jack\", \"temperature\": 8.84, \"humidity\": 18, \"wind_speed\": 7.54, \"condition\": \"Snowy\", \"timestamp\": \"2021-03-25T22:00:47\"}'\n",
      "assign-topic:1:829: key=None value=b'{\"city\": \"Kristiside\", \"temperature\": 7.54, \"humidity\": 75, \"wind_speed\": 6.76, \"condition\": \"Rainy\", \"timestamp\": \"1985-11-10T08:34:58\"}'\n",
      "assign-topic:1:830: key=None value=b'{\"city\": \"Michaelmouth\", \"temperature\": -7.58, \"humidity\": 27, \"wind_speed\": 10.88, \"condition\": \"Windy\", \"timestamp\": \"1987-12-15T13:41:14\"}'\n",
      "assign-topic:1:831: key=None value=b'{\"city\": \"Nathanshire\", \"temperature\": 3.03, \"humidity\": 17, \"wind_speed\": 13.8, \"condition\": \"Cloudy\", \"timestamp\": \"1970-08-02T23:08:26\"}'\n",
      "assign-topic:1:832: key=None value=b'{\"city\": \"East Chrisborough\", \"temperature\": 27.42, \"humidity\": 28, \"wind_speed\": 11.89, \"condition\": \"Cloudy\", \"timestamp\": \"1987-06-04T06:50:02\"}'\n",
      "assign-topic:1:833: key=None value=b'{\"city\": \"New Jessehaven\", \"temperature\": 21.95, \"humidity\": 35, \"wind_speed\": 17.5, \"condition\": \"Sunny\", \"timestamp\": \"2008-12-19T12:50:27\"}'\n",
      "assign-topic:1:834: key=None value=b'{\"city\": \"Meganburgh\", \"temperature\": 23.43, \"humidity\": 18, \"wind_speed\": 17.04, \"condition\": \"Rainy\", \"timestamp\": \"2014-09-28T20:16:03\"}'\n",
      "assign-topic:1:835: key=None value=b'{\"city\": \"South Tracy\", \"temperature\": 24.1, \"humidity\": 76, \"wind_speed\": 5.85, \"condition\": \"Snowy\", \"timestamp\": \"2002-03-21T10:51:51\"}'\n",
      "assign-topic:1:836: key=None value=b'{\"city\": \"Port Nancyland\", \"temperature\": 31.14, \"humidity\": 68, \"wind_speed\": 5.82, \"condition\": \"Windy\", \"timestamp\": \"1990-12-20T21:31:52\"}'\n",
      "assign-topic:1:837: key=None value=b'{\"city\": \"New Joshua\", \"temperature\": -5.08, \"humidity\": 72, \"wind_speed\": 7.8, \"condition\": \"Sunny\", \"timestamp\": \"2021-03-18T04:55:16\"}'\n",
      "assign-topic:1:838: key=None value=b'{\"city\": \"Davidfort\", \"temperature\": 6.0, \"humidity\": 63, \"wind_speed\": 19.17, \"condition\": \"Snowy\", \"timestamp\": \"1995-03-27T08:10:13\"}'\n",
      "assign-topic:1:839: key=None value=b'{\"city\": \"Gilbertchester\", \"temperature\": 11.27, \"humidity\": 71, \"wind_speed\": 5.76, \"condition\": \"Windy\", \"timestamp\": \"2002-09-15T08:09:14\"}'\n",
      "assign-topic:1:840: key=None value=b'{\"city\": \"Mccarthyberg\", \"temperature\": -7.59, \"humidity\": 72, \"wind_speed\": 13.89, \"condition\": \"Windy\", \"timestamp\": \"1988-04-24T07:55:41\"}'\n",
      "assign-topic:1:841: key=None value=b'{\"city\": \"Angelastad\", \"temperature\": 7.43, \"humidity\": 44, \"wind_speed\": 3.46, \"condition\": \"Cloudy\", \"timestamp\": \"2024-07-25T15:13:23\"}'\n",
      "assign-topic:1:842: key=None value=b'{\"city\": \"Sharibury\", \"temperature\": 33.63, \"humidity\": 42, \"wind_speed\": 10.23, \"condition\": \"Windy\", \"timestamp\": \"2012-03-25T15:03:25\"}'\n",
      "assign-topic:1:843: key=None value=b'{\"city\": \"Hernandezton\", \"temperature\": 27.76, \"humidity\": 64, \"wind_speed\": 2.9, \"condition\": \"Snowy\", \"timestamp\": \"1990-08-16T18:45:56\"}'\n",
      "assign-topic:1:844: key=None value=b'{\"city\": \"Priscillamouth\", \"temperature\": 33.64, \"humidity\": 21, \"wind_speed\": 5.97, \"condition\": \"Snowy\", \"timestamp\": \"2013-12-18T11:59:45\"}'\n",
      "assign-topic:1:845: key=None value=b'{\"city\": \"Hernandezville\", \"temperature\": -4.35, \"humidity\": 28, \"wind_speed\": 1.98, \"condition\": \"Cloudy\", \"timestamp\": \"1973-10-22T17:16:21\"}'\n",
      "assign-topic:1:846: key=None value=b'{\"city\": \"Dianashire\", \"temperature\": 1.16, \"humidity\": 57, \"wind_speed\": 13.7, \"condition\": \"Sunny\", \"timestamp\": \"2007-04-03T07:13:45\"}'\n",
      "assign-topic:1:847: key=None value=b'{\"city\": \"Rodriguezton\", \"temperature\": -1.8, \"humidity\": 40, \"wind_speed\": 19.9, \"condition\": \"Sunny\", \"timestamp\": \"1983-08-19T02:42:57\"}'\n",
      "assign-topic:1:848: key=None value=b'{\"city\": \"New Hayley\", \"temperature\": -5.23, \"humidity\": 57, \"wind_speed\": 14.58, \"condition\": \"Snowy\", \"timestamp\": \"2018-03-22T18:32:32\"}'\n",
      "assign-topic:1:849: key=None value=b'{\"city\": \"Port David\", \"temperature\": 34.9, \"humidity\": 34, \"wind_speed\": 2.3, \"condition\": \"Windy\", \"timestamp\": \"1973-07-06T11:50:01\"}'\n",
      "assign-topic:1:850: key=None value=b'{\"city\": \"East Michael\", \"temperature\": -9.01, \"humidity\": 24, \"wind_speed\": 2.36, \"condition\": \"Cloudy\", \"timestamp\": \"1988-01-06T22:14:29\"}'\n",
      "assign-topic:1:851: key=None value=b'{\"city\": \"Jeffberg\", \"temperature\": -2.5, \"humidity\": 93, \"wind_speed\": 10.5, \"condition\": \"Cloudy\", \"timestamp\": \"1999-06-14T16:35:13\"}'\n",
      "assign-topic:1:852: key=None value=b'{\"city\": \"West Kimberly\", \"temperature\": 2.67, \"humidity\": 39, \"wind_speed\": 4.03, \"condition\": \"Sunny\", \"timestamp\": \"1976-11-01T10:59:41\"}'\n",
      "assign-topic:1:853: key=None value=b'{\"city\": \"Johnchester\", \"temperature\": 29.75, \"humidity\": 73, \"wind_speed\": 5.1, \"condition\": \"Rainy\", \"timestamp\": \"2013-07-05T00:10:48\"}'\n",
      "assign-topic:1:854: key=None value=b'{\"city\": \"East Deborah\", \"temperature\": 29.45, \"humidity\": 54, \"wind_speed\": 7.4, \"condition\": \"Sunny\", \"timestamp\": \"2019-05-09T11:06:39\"}'\n",
      "assign-topic:1:855: key=None value=b'{\"city\": \"Robertton\", \"temperature\": 28.15, \"humidity\": 84, \"wind_speed\": 14.64, \"condition\": \"Rainy\", \"timestamp\": \"1981-01-09T11:07:48\"}'\n",
      "assign-topic:1:856: key=None value=b'{\"city\": \"New Maria\", \"temperature\": 22.98, \"humidity\": 43, \"wind_speed\": 11.53, \"condition\": \"Windy\", \"timestamp\": \"1999-11-21T21:41:03\"}'\n",
      "assign-topic:1:857: key=None value=b'{\"city\": \"Elizabethburgh\", \"temperature\": 7.06, \"humidity\": 40, \"wind_speed\": 7.46, \"condition\": \"Snowy\", \"timestamp\": \"2015-02-07T18:22:44\"}'\n",
      "assign-topic:1:858: key=None value=b'{\"city\": \"West Katherine\", \"temperature\": -0.48, \"humidity\": 95, \"wind_speed\": 13.42, \"condition\": \"Windy\", \"timestamp\": \"1978-11-02T00:20:58\"}'\n",
      "assign-topic:1:859: key=None value=b'{\"city\": \"Williamsstad\", \"temperature\": 24.99, \"humidity\": 92, \"wind_speed\": 6.17, \"condition\": \"Snowy\", \"timestamp\": \"1989-08-28T15:36:14\"}'\n",
      "assign-topic:1:860: key=None value=b'{\"city\": \"East Christown\", \"temperature\": 9.76, \"humidity\": 99, \"wind_speed\": 13.89, \"condition\": \"Snowy\", \"timestamp\": \"2015-04-29T04:30:40\"}'\n",
      "assign-topic:1:861: key=None value=b'{\"city\": \"Jackieview\", \"temperature\": 31.7, \"humidity\": 97, \"wind_speed\": 12.07, \"condition\": \"Cloudy\", \"timestamp\": \"2005-06-01T12:37:25\"}'\n",
      "assign-topic:1:862: key=None value=b'{\"weather_id\": \"c3835187-5e36-4435-bf9f-30d4bc4bc3b3\", \"city\": \"New Raymondhaven\", \"temperature\": 21.86, \"humidity\": 98, \"wind_speed\": 6.49, \"condition\": \"Snowy\", \"timestamp\": \"2015-07-08T05:19:59\"}'\n",
      "assign-topic:1:863: key=None value=b'{\"weather_id\": \"c61f615e-862e-4f06-b1d1-2bfcf2c790af\", \"city\": \"Davishaven\", \"temperature\": 2.73, \"humidity\": 24, \"wind_speed\": 11.13, \"condition\": \"Rainy\", \"timestamp\": \"2022-11-27T06:36:21\"}'\n",
      "assign-topic:1:864: key=None value=b'{\"weather_id\": \"2f46e324-2133-486f-bcf6-cd267682c85e\", \"city\": \"Lake Edwardchester\", \"temperature\": 1.43, \"humidity\": 67, \"wind_speed\": 16.95, \"condition\": \"Cloudy\", \"timestamp\": \"2012-07-30T07:13:18\"}'\n",
      "assign-topic:1:865: key=None value=b'{\"weather_id\": \"65e77f89-6413-47ae-b41f-d32feead9704\", \"city\": \"East Ricardobury\", \"temperature\": -4.56, \"humidity\": 21, \"wind_speed\": 1.59, \"condition\": \"Windy\", \"timestamp\": \"2019-02-20T23:59:41\"}'\n",
      "assign-topic:1:866: key=None value=b'{\"weather_id\": \"750bc74e-88c9-46e0-983d-f325158c5e96\", \"city\": \"Johnsonberg\", \"temperature\": 24.92, \"humidity\": 41, \"wind_speed\": 12.39, \"condition\": \"Rainy\", \"timestamp\": \"2007-10-20T05:00:32\"}'\n",
      "assign-topic:1:867: key=None value=b'{\"weather_id\": \"3ba7d424-8fe9-4cac-aaa6-c10f74c89616\", \"city\": \"Kelleytown\", \"temperature\": 33.05, \"humidity\": 20, \"wind_speed\": 3.07, \"condition\": \"Sunny\", \"timestamp\": \"1997-05-30T14:37:50\"}'\n"
     ]
    },
    {
     "ename": "KeyboardInterrupt",
     "evalue": "",
     "output_type": "error",
     "traceback": [
      "\u001b[0;31m---------------------------------------------------------------------------\u001b[0m",
      "\u001b[0;31mKeyboardInterrupt\u001b[0m                         Traceback (most recent call last)",
      "Cell \u001b[0;32mIn[6], line 4\u001b[0m\n\u001b[1;32m      2\u001b[0m count \u001b[38;5;241m=\u001b[39m \u001b[38;5;241m0\u001b[39m\n\u001b[1;32m      3\u001b[0m weather_list \u001b[38;5;241m=\u001b[39m []\n\u001b[0;32m----> 4\u001b[0m \u001b[38;5;28;01mfor\u001b[39;00m message \u001b[38;5;129;01min\u001b[39;00m consumer1:\n\u001b[1;32m      5\u001b[0m     \u001b[38;5;28mprint\u001b[39m (\u001b[38;5;124m\"\u001b[39m\u001b[38;5;132;01m%s\u001b[39;00m\u001b[38;5;124m:\u001b[39m\u001b[38;5;132;01m%d\u001b[39;00m\u001b[38;5;124m:\u001b[39m\u001b[38;5;132;01m%d\u001b[39;00m\u001b[38;5;124m: key=\u001b[39m\u001b[38;5;132;01m%s\u001b[39;00m\u001b[38;5;124m value=\u001b[39m\u001b[38;5;132;01m%s\u001b[39;00m\u001b[38;5;124m\"\u001b[39m \u001b[38;5;241m%\u001b[39m (message\u001b[38;5;241m.\u001b[39mtopic, message\u001b[38;5;241m.\u001b[39mpartition,\n\u001b[1;32m      6\u001b[0m                                           message\u001b[38;5;241m.\u001b[39moffset, message\u001b[38;5;241m.\u001b[39mkey,\n\u001b[1;32m      7\u001b[0m                                           message\u001b[38;5;241m.\u001b[39mvalue))\n\u001b[1;32m      8\u001b[0m     data \u001b[38;5;241m=\u001b[39m json\u001b[38;5;241m.\u001b[39mloads(message\u001b[38;5;241m.\u001b[39mvalue\u001b[38;5;241m.\u001b[39mdecode(\u001b[38;5;124m'\u001b[39m\u001b[38;5;124mutf-8\u001b[39m\u001b[38;5;124m'\u001b[39m))\n",
      "File \u001b[0;32m/opt/conda/lib/python3.10/site-packages/kafka/consumer/group.py:1193\u001b[0m, in \u001b[0;36mKafkaConsumer.__next__\u001b[0;34m(self)\u001b[0m\n\u001b[1;32m   1191\u001b[0m     \u001b[38;5;28;01mreturn\u001b[39;00m \u001b[38;5;28mself\u001b[39m\u001b[38;5;241m.\u001b[39mnext_v1()\n\u001b[1;32m   1192\u001b[0m \u001b[38;5;28;01melse\u001b[39;00m:\n\u001b[0;32m-> 1193\u001b[0m     \u001b[38;5;28;01mreturn\u001b[39;00m \u001b[38;5;28;43mself\u001b[39;49m\u001b[38;5;241;43m.\u001b[39;49m\u001b[43mnext_v2\u001b[49m\u001b[43m(\u001b[49m\u001b[43m)\u001b[49m\n",
      "File \u001b[0;32m/opt/conda/lib/python3.10/site-packages/kafka/consumer/group.py:1201\u001b[0m, in \u001b[0;36mKafkaConsumer.next_v2\u001b[0;34m(self)\u001b[0m\n\u001b[1;32m   1199\u001b[0m     \u001b[38;5;28mself\u001b[39m\u001b[38;5;241m.\u001b[39m_iterator \u001b[38;5;241m=\u001b[39m \u001b[38;5;28mself\u001b[39m\u001b[38;5;241m.\u001b[39m_message_generator_v2()\n\u001b[1;32m   1200\u001b[0m \u001b[38;5;28;01mtry\u001b[39;00m:\n\u001b[0;32m-> 1201\u001b[0m     \u001b[38;5;28;01mreturn\u001b[39;00m \u001b[38;5;28;43mnext\u001b[39;49m\u001b[43m(\u001b[49m\u001b[38;5;28;43mself\u001b[39;49m\u001b[38;5;241;43m.\u001b[39;49m\u001b[43m_iterator\u001b[49m\u001b[43m)\u001b[49m\n\u001b[1;32m   1202\u001b[0m \u001b[38;5;28;01mexcept\u001b[39;00m \u001b[38;5;167;01mStopIteration\u001b[39;00m:\n\u001b[1;32m   1203\u001b[0m     \u001b[38;5;28mself\u001b[39m\u001b[38;5;241m.\u001b[39m_iterator \u001b[38;5;241m=\u001b[39m \u001b[38;5;28;01mNone\u001b[39;00m\n",
      "File \u001b[0;32m/opt/conda/lib/python3.10/site-packages/kafka/consumer/group.py:1116\u001b[0m, in \u001b[0;36mKafkaConsumer._message_generator_v2\u001b[0;34m(self)\u001b[0m\n\u001b[1;32m   1114\u001b[0m \u001b[38;5;28;01mdef\u001b[39;00m \u001b[38;5;21m_message_generator_v2\u001b[39m(\u001b[38;5;28mself\u001b[39m):\n\u001b[1;32m   1115\u001b[0m     timeout_ms \u001b[38;5;241m=\u001b[39m \u001b[38;5;241m1000\u001b[39m \u001b[38;5;241m*\u001b[39m (\u001b[38;5;28mself\u001b[39m\u001b[38;5;241m.\u001b[39m_consumer_timeout \u001b[38;5;241m-\u001b[39m time\u001b[38;5;241m.\u001b[39mtime())\n\u001b[0;32m-> 1116\u001b[0m     record_map \u001b[38;5;241m=\u001b[39m \u001b[38;5;28;43mself\u001b[39;49m\u001b[38;5;241;43m.\u001b[39;49m\u001b[43mpoll\u001b[49m\u001b[43m(\u001b[49m\u001b[43mtimeout_ms\u001b[49m\u001b[38;5;241;43m=\u001b[39;49m\u001b[43mtimeout_ms\u001b[49m\u001b[43m,\u001b[49m\u001b[43m \u001b[49m\u001b[43mupdate_offsets\u001b[49m\u001b[38;5;241;43m=\u001b[39;49m\u001b[38;5;28;43;01mFalse\u001b[39;49;00m\u001b[43m)\u001b[49m\n\u001b[1;32m   1117\u001b[0m     \u001b[38;5;28;01mfor\u001b[39;00m tp, records \u001b[38;5;129;01min\u001b[39;00m six\u001b[38;5;241m.\u001b[39miteritems(record_map):\n\u001b[1;32m   1118\u001b[0m         \u001b[38;5;66;03m# Generators are stateful, and it is possible that the tp / records\u001b[39;00m\n\u001b[1;32m   1119\u001b[0m         \u001b[38;5;66;03m# here may become stale during iteration -- i.e., we seek to a\u001b[39;00m\n\u001b[1;32m   1120\u001b[0m         \u001b[38;5;66;03m# different offset, pause consumption, or lose assignment.\u001b[39;00m\n\u001b[1;32m   1121\u001b[0m         \u001b[38;5;28;01mfor\u001b[39;00m record \u001b[38;5;129;01min\u001b[39;00m records:\n\u001b[1;32m   1122\u001b[0m             \u001b[38;5;66;03m# is_fetchable(tp) should handle assignment changes and offset\u001b[39;00m\n\u001b[1;32m   1123\u001b[0m             \u001b[38;5;66;03m# resets; for all other changes (e.g., seeks) we'll rely on the\u001b[39;00m\n\u001b[1;32m   1124\u001b[0m             \u001b[38;5;66;03m# outer function destroying the existing iterator/generator\u001b[39;00m\n\u001b[1;32m   1125\u001b[0m             \u001b[38;5;66;03m# via self._iterator = None\u001b[39;00m\n",
      "File \u001b[0;32m/opt/conda/lib/python3.10/site-packages/kafka/consumer/group.py:655\u001b[0m, in \u001b[0;36mKafkaConsumer.poll\u001b[0;34m(self, timeout_ms, max_records, update_offsets)\u001b[0m\n\u001b[1;32m    653\u001b[0m remaining \u001b[38;5;241m=\u001b[39m timeout_ms\n\u001b[1;32m    654\u001b[0m \u001b[38;5;28;01mwhile\u001b[39;00m \u001b[38;5;28;01mTrue\u001b[39;00m:\n\u001b[0;32m--> 655\u001b[0m     records \u001b[38;5;241m=\u001b[39m \u001b[38;5;28;43mself\u001b[39;49m\u001b[38;5;241;43m.\u001b[39;49m\u001b[43m_poll_once\u001b[49m\u001b[43m(\u001b[49m\u001b[43mremaining\u001b[49m\u001b[43m,\u001b[49m\u001b[43m \u001b[49m\u001b[43mmax_records\u001b[49m\u001b[43m,\u001b[49m\u001b[43m \u001b[49m\u001b[43mupdate_offsets\u001b[49m\u001b[38;5;241;43m=\u001b[39;49m\u001b[43mupdate_offsets\u001b[49m\u001b[43m)\u001b[49m\n\u001b[1;32m    656\u001b[0m     \u001b[38;5;28;01mif\u001b[39;00m records:\n\u001b[1;32m    657\u001b[0m         \u001b[38;5;28;01mreturn\u001b[39;00m records\n",
      "File \u001b[0;32m/opt/conda/lib/python3.10/site-packages/kafka/consumer/group.py:702\u001b[0m, in \u001b[0;36mKafkaConsumer._poll_once\u001b[0;34m(self, timeout_ms, max_records, update_offsets)\u001b[0m\n\u001b[1;32m    699\u001b[0m     \u001b[38;5;28mself\u001b[39m\u001b[38;5;241m.\u001b[39m_client\u001b[38;5;241m.\u001b[39mpoll(timeout_ms\u001b[38;5;241m=\u001b[39m\u001b[38;5;241m0\u001b[39m)\n\u001b[1;32m    701\u001b[0m timeout_ms \u001b[38;5;241m=\u001b[39m \u001b[38;5;28mmin\u001b[39m(timeout_ms, \u001b[38;5;28mself\u001b[39m\u001b[38;5;241m.\u001b[39m_coordinator\u001b[38;5;241m.\u001b[39mtime_to_next_poll() \u001b[38;5;241m*\u001b[39m \u001b[38;5;241m1000\u001b[39m)\n\u001b[0;32m--> 702\u001b[0m \u001b[38;5;28;43mself\u001b[39;49m\u001b[38;5;241;43m.\u001b[39;49m\u001b[43m_client\u001b[49m\u001b[38;5;241;43m.\u001b[39;49m\u001b[43mpoll\u001b[49m\u001b[43m(\u001b[49m\u001b[43mtimeout_ms\u001b[49m\u001b[38;5;241;43m=\u001b[39;49m\u001b[43mtimeout_ms\u001b[49m\u001b[43m)\u001b[49m\n\u001b[1;32m    703\u001b[0m \u001b[38;5;66;03m# after the long poll, we should check whether the group needs to rebalance\u001b[39;00m\n\u001b[1;32m    704\u001b[0m \u001b[38;5;66;03m# prior to returning data so that the group can stabilize faster\u001b[39;00m\n\u001b[1;32m    705\u001b[0m \u001b[38;5;28;01mif\u001b[39;00m \u001b[38;5;28mself\u001b[39m\u001b[38;5;241m.\u001b[39m_coordinator\u001b[38;5;241m.\u001b[39mneed_rejoin():\n",
      "File \u001b[0;32m/opt/conda/lib/python3.10/site-packages/kafka/client_async.py:602\u001b[0m, in \u001b[0;36mKafkaClient.poll\u001b[0;34m(self, timeout_ms, future)\u001b[0m\n\u001b[1;32m    599\u001b[0m             timeout \u001b[38;5;241m=\u001b[39m \u001b[38;5;28mmin\u001b[39m(timeout, \u001b[38;5;28mself\u001b[39m\u001b[38;5;241m.\u001b[39mconfig[\u001b[38;5;124m'\u001b[39m\u001b[38;5;124mretry_backoff_ms\u001b[39m\u001b[38;5;124m'\u001b[39m])\n\u001b[1;32m    600\u001b[0m         timeout \u001b[38;5;241m=\u001b[39m \u001b[38;5;28mmax\u001b[39m(\u001b[38;5;241m0\u001b[39m, timeout)  \u001b[38;5;66;03m# avoid negative timeouts\u001b[39;00m\n\u001b[0;32m--> 602\u001b[0m     \u001b[38;5;28;43mself\u001b[39;49m\u001b[38;5;241;43m.\u001b[39;49m\u001b[43m_poll\u001b[49m\u001b[43m(\u001b[49m\u001b[43mtimeout\u001b[49m\u001b[43m \u001b[49m\u001b[38;5;241;43m/\u001b[39;49m\u001b[43m \u001b[49m\u001b[38;5;241;43m1000\u001b[39;49m\u001b[43m)\u001b[49m\n\u001b[1;32m    604\u001b[0m \u001b[38;5;66;03m# called without the lock to avoid deadlock potential\u001b[39;00m\n\u001b[1;32m    605\u001b[0m \u001b[38;5;66;03m# if handlers need to acquire locks\u001b[39;00m\n\u001b[1;32m    606\u001b[0m responses\u001b[38;5;241m.\u001b[39mextend(\u001b[38;5;28mself\u001b[39m\u001b[38;5;241m.\u001b[39m_fire_pending_completed_requests())\n",
      "File \u001b[0;32m/opt/conda/lib/python3.10/site-packages/kafka/client_async.py:634\u001b[0m, in \u001b[0;36mKafkaClient._poll\u001b[0;34m(self, timeout)\u001b[0m\n\u001b[1;32m    631\u001b[0m \u001b[38;5;28mself\u001b[39m\u001b[38;5;241m.\u001b[39m_register_send_sockets()\n\u001b[1;32m    633\u001b[0m start_select \u001b[38;5;241m=\u001b[39m time\u001b[38;5;241m.\u001b[39mtime()\n\u001b[0;32m--> 634\u001b[0m ready \u001b[38;5;241m=\u001b[39m \u001b[38;5;28;43mself\u001b[39;49m\u001b[38;5;241;43m.\u001b[39;49m\u001b[43m_selector\u001b[49m\u001b[38;5;241;43m.\u001b[39;49m\u001b[43mselect\u001b[49m\u001b[43m(\u001b[49m\u001b[43mtimeout\u001b[49m\u001b[43m)\u001b[49m\n\u001b[1;32m    635\u001b[0m end_select \u001b[38;5;241m=\u001b[39m time\u001b[38;5;241m.\u001b[39mtime()\n\u001b[1;32m    636\u001b[0m \u001b[38;5;28;01mif\u001b[39;00m \u001b[38;5;28mself\u001b[39m\u001b[38;5;241m.\u001b[39m_sensors:\n",
      "File \u001b[0;32m/opt/conda/lib/python3.10/selectors.py:469\u001b[0m, in \u001b[0;36mEpollSelector.select\u001b[0;34m(self, timeout)\u001b[0m\n\u001b[1;32m    467\u001b[0m ready \u001b[38;5;241m=\u001b[39m []\n\u001b[1;32m    468\u001b[0m \u001b[38;5;28;01mtry\u001b[39;00m:\n\u001b[0;32m--> 469\u001b[0m     fd_event_list \u001b[38;5;241m=\u001b[39m \u001b[38;5;28;43mself\u001b[39;49m\u001b[38;5;241;43m.\u001b[39;49m\u001b[43m_selector\u001b[49m\u001b[38;5;241;43m.\u001b[39;49m\u001b[43mpoll\u001b[49m\u001b[43m(\u001b[49m\u001b[43mtimeout\u001b[49m\u001b[43m,\u001b[49m\u001b[43m \u001b[49m\u001b[43mmax_ev\u001b[49m\u001b[43m)\u001b[49m\n\u001b[1;32m    470\u001b[0m \u001b[38;5;28;01mexcept\u001b[39;00m \u001b[38;5;167;01mInterruptedError\u001b[39;00m:\n\u001b[1;32m    471\u001b[0m     \u001b[38;5;28;01mreturn\u001b[39;00m ready\n",
      "\u001b[0;31mKeyboardInterrupt\u001b[0m: "
     ]
    }
   ],
   "source": [
    "total = 0\n",
    "count = 0\n",
    "weather_list = []\n",
    "for message in consumer1:\n",
    "    print (\"%s:%d:%d: key=%s value=%s\" % (message.topic, message.partition,\n",
    "                                          message.offset, message.key,\n",
    "                                          message.value))\n",
    "    data = json.loads(message.value.decode('utf-8'))\n",
    "    weather_list.append(data['condition'])\n",
    "    weather_dict = dict((weather, weather_list.count(weather)) for weather in weather_list)\n",
    "    # print(weather_dict)\n",
    "    \n",
    "    total+=data['temperature']\n",
    "    count+=1\n",
    "    average = total/count\n",
    "    # print(f'average temperature: {average}')"
   ]
  },
  {
   "cell_type": "code",
   "execution_count": 6,
   "id": "b9b596ca-731c-4d67-b48b-1862684421a4",
   "metadata": {
    "tags": []
   },
   "outputs": [
    {
     "ename": "KeyboardInterrupt",
     "evalue": "",
     "output_type": "error",
     "traceback": [
      "\u001b[0;31m---------------------------------------------------------------------------\u001b[0m",
      "\u001b[0;31mKeyboardInterrupt\u001b[0m                         Traceback (most recent call last)",
      "Cell \u001b[0;32mIn[6], line 1\u001b[0m\n\u001b[0;32m----> 1\u001b[0m \u001b[38;5;28;01mfor\u001b[39;00m message \u001b[38;5;129;01min\u001b[39;00m consumer2:\n\u001b[1;32m      2\u001b[0m     \u001b[38;5;28mprint\u001b[39m (\u001b[38;5;124m\"\u001b[39m\u001b[38;5;132;01m%s\u001b[39;00m\u001b[38;5;124m:\u001b[39m\u001b[38;5;132;01m%d\u001b[39;00m\u001b[38;5;124m:\u001b[39m\u001b[38;5;132;01m%d\u001b[39;00m\u001b[38;5;124m: key=\u001b[39m\u001b[38;5;132;01m%s\u001b[39;00m\u001b[38;5;124m value=\u001b[39m\u001b[38;5;132;01m%s\u001b[39;00m\u001b[38;5;124m\"\u001b[39m \u001b[38;5;241m%\u001b[39m (message\u001b[38;5;241m.\u001b[39mtopic, message\u001b[38;5;241m.\u001b[39mpartition,\n\u001b[1;32m      3\u001b[0m                                           message\u001b[38;5;241m.\u001b[39moffset, message\u001b[38;5;241m.\u001b[39mkey,\n\u001b[1;32m      4\u001b[0m                                           message\u001b[38;5;241m.\u001b[39mvalue))\n",
      "File \u001b[0;32m/opt/conda/lib/python3.10/site-packages/kafka/consumer/group.py:1193\u001b[0m, in \u001b[0;36mKafkaConsumer.__next__\u001b[0;34m(self)\u001b[0m\n\u001b[1;32m   1191\u001b[0m     \u001b[38;5;28;01mreturn\u001b[39;00m \u001b[38;5;28mself\u001b[39m\u001b[38;5;241m.\u001b[39mnext_v1()\n\u001b[1;32m   1192\u001b[0m \u001b[38;5;28;01melse\u001b[39;00m:\n\u001b[0;32m-> 1193\u001b[0m     \u001b[38;5;28;01mreturn\u001b[39;00m \u001b[38;5;28;43mself\u001b[39;49m\u001b[38;5;241;43m.\u001b[39;49m\u001b[43mnext_v2\u001b[49m\u001b[43m(\u001b[49m\u001b[43m)\u001b[49m\n",
      "File \u001b[0;32m/opt/conda/lib/python3.10/site-packages/kafka/consumer/group.py:1201\u001b[0m, in \u001b[0;36mKafkaConsumer.next_v2\u001b[0;34m(self)\u001b[0m\n\u001b[1;32m   1199\u001b[0m     \u001b[38;5;28mself\u001b[39m\u001b[38;5;241m.\u001b[39m_iterator \u001b[38;5;241m=\u001b[39m \u001b[38;5;28mself\u001b[39m\u001b[38;5;241m.\u001b[39m_message_generator_v2()\n\u001b[1;32m   1200\u001b[0m \u001b[38;5;28;01mtry\u001b[39;00m:\n\u001b[0;32m-> 1201\u001b[0m     \u001b[38;5;28;01mreturn\u001b[39;00m \u001b[38;5;28;43mnext\u001b[39;49m\u001b[43m(\u001b[49m\u001b[38;5;28;43mself\u001b[39;49m\u001b[38;5;241;43m.\u001b[39;49m\u001b[43m_iterator\u001b[49m\u001b[43m)\u001b[49m\n\u001b[1;32m   1202\u001b[0m \u001b[38;5;28;01mexcept\u001b[39;00m \u001b[38;5;167;01mStopIteration\u001b[39;00m:\n\u001b[1;32m   1203\u001b[0m     \u001b[38;5;28mself\u001b[39m\u001b[38;5;241m.\u001b[39m_iterator \u001b[38;5;241m=\u001b[39m \u001b[38;5;28;01mNone\u001b[39;00m\n",
      "File \u001b[0;32m/opt/conda/lib/python3.10/site-packages/kafka/consumer/group.py:1116\u001b[0m, in \u001b[0;36mKafkaConsumer._message_generator_v2\u001b[0;34m(self)\u001b[0m\n\u001b[1;32m   1114\u001b[0m \u001b[38;5;28;01mdef\u001b[39;00m \u001b[38;5;21m_message_generator_v2\u001b[39m(\u001b[38;5;28mself\u001b[39m):\n\u001b[1;32m   1115\u001b[0m     timeout_ms \u001b[38;5;241m=\u001b[39m \u001b[38;5;241m1000\u001b[39m \u001b[38;5;241m*\u001b[39m (\u001b[38;5;28mself\u001b[39m\u001b[38;5;241m.\u001b[39m_consumer_timeout \u001b[38;5;241m-\u001b[39m time\u001b[38;5;241m.\u001b[39mtime())\n\u001b[0;32m-> 1116\u001b[0m     record_map \u001b[38;5;241m=\u001b[39m \u001b[38;5;28;43mself\u001b[39;49m\u001b[38;5;241;43m.\u001b[39;49m\u001b[43mpoll\u001b[49m\u001b[43m(\u001b[49m\u001b[43mtimeout_ms\u001b[49m\u001b[38;5;241;43m=\u001b[39;49m\u001b[43mtimeout_ms\u001b[49m\u001b[43m,\u001b[49m\u001b[43m \u001b[49m\u001b[43mupdate_offsets\u001b[49m\u001b[38;5;241;43m=\u001b[39;49m\u001b[38;5;28;43;01mFalse\u001b[39;49;00m\u001b[43m)\u001b[49m\n\u001b[1;32m   1117\u001b[0m     \u001b[38;5;28;01mfor\u001b[39;00m tp, records \u001b[38;5;129;01min\u001b[39;00m six\u001b[38;5;241m.\u001b[39miteritems(record_map):\n\u001b[1;32m   1118\u001b[0m         \u001b[38;5;66;03m# Generators are stateful, and it is possible that the tp / records\u001b[39;00m\n\u001b[1;32m   1119\u001b[0m         \u001b[38;5;66;03m# here may become stale during iteration -- i.e., we seek to a\u001b[39;00m\n\u001b[1;32m   1120\u001b[0m         \u001b[38;5;66;03m# different offset, pause consumption, or lose assignment.\u001b[39;00m\n\u001b[1;32m   1121\u001b[0m         \u001b[38;5;28;01mfor\u001b[39;00m record \u001b[38;5;129;01min\u001b[39;00m records:\n\u001b[1;32m   1122\u001b[0m             \u001b[38;5;66;03m# is_fetchable(tp) should handle assignment changes and offset\u001b[39;00m\n\u001b[1;32m   1123\u001b[0m             \u001b[38;5;66;03m# resets; for all other changes (e.g., seeks) we'll rely on the\u001b[39;00m\n\u001b[1;32m   1124\u001b[0m             \u001b[38;5;66;03m# outer function destroying the existing iterator/generator\u001b[39;00m\n\u001b[1;32m   1125\u001b[0m             \u001b[38;5;66;03m# via self._iterator = None\u001b[39;00m\n",
      "File \u001b[0;32m/opt/conda/lib/python3.10/site-packages/kafka/consumer/group.py:655\u001b[0m, in \u001b[0;36mKafkaConsumer.poll\u001b[0;34m(self, timeout_ms, max_records, update_offsets)\u001b[0m\n\u001b[1;32m    653\u001b[0m remaining \u001b[38;5;241m=\u001b[39m timeout_ms\n\u001b[1;32m    654\u001b[0m \u001b[38;5;28;01mwhile\u001b[39;00m \u001b[38;5;28;01mTrue\u001b[39;00m:\n\u001b[0;32m--> 655\u001b[0m     records \u001b[38;5;241m=\u001b[39m \u001b[38;5;28;43mself\u001b[39;49m\u001b[38;5;241;43m.\u001b[39;49m\u001b[43m_poll_once\u001b[49m\u001b[43m(\u001b[49m\u001b[43mremaining\u001b[49m\u001b[43m,\u001b[49m\u001b[43m \u001b[49m\u001b[43mmax_records\u001b[49m\u001b[43m,\u001b[49m\u001b[43m \u001b[49m\u001b[43mupdate_offsets\u001b[49m\u001b[38;5;241;43m=\u001b[39;49m\u001b[43mupdate_offsets\u001b[49m\u001b[43m)\u001b[49m\n\u001b[1;32m    656\u001b[0m     \u001b[38;5;28;01mif\u001b[39;00m records:\n\u001b[1;32m    657\u001b[0m         \u001b[38;5;28;01mreturn\u001b[39;00m records\n",
      "File \u001b[0;32m/opt/conda/lib/python3.10/site-packages/kafka/consumer/group.py:675\u001b[0m, in \u001b[0;36mKafkaConsumer._poll_once\u001b[0;34m(self, timeout_ms, max_records, update_offsets)\u001b[0m\n\u001b[1;32m    665\u001b[0m \u001b[38;5;28;01mdef\u001b[39;00m \u001b[38;5;21m_poll_once\u001b[39m(\u001b[38;5;28mself\u001b[39m, timeout_ms, max_records, update_offsets\u001b[38;5;241m=\u001b[39m\u001b[38;5;28;01mTrue\u001b[39;00m):\n\u001b[1;32m    666\u001b[0m \u001b[38;5;250m    \u001b[39m\u001b[38;5;124;03m\"\"\"Do one round of polling. In addition to checking for new data, this does\u001b[39;00m\n\u001b[1;32m    667\u001b[0m \u001b[38;5;124;03m    any needed heart-beating, auto-commits, and offset updates.\u001b[39;00m\n\u001b[1;32m    668\u001b[0m \n\u001b[0;32m   (...)\u001b[0m\n\u001b[1;32m    673\u001b[0m \u001b[38;5;124;03m        dict: Map of topic to list of records (may be empty).\u001b[39;00m\n\u001b[1;32m    674\u001b[0m \u001b[38;5;124;03m    \"\"\"\u001b[39;00m\n\u001b[0;32m--> 675\u001b[0m     \u001b[38;5;28;43mself\u001b[39;49m\u001b[38;5;241;43m.\u001b[39;49m\u001b[43m_coordinator\u001b[49m\u001b[38;5;241;43m.\u001b[39;49m\u001b[43mpoll\u001b[49m\u001b[43m(\u001b[49m\u001b[43m)\u001b[49m\n\u001b[1;32m    677\u001b[0m     \u001b[38;5;66;03m# Fetch positions if we have partitions we're subscribed to that we\u001b[39;00m\n\u001b[1;32m    678\u001b[0m     \u001b[38;5;66;03m# don't know the offset for\u001b[39;00m\n\u001b[1;32m    679\u001b[0m     \u001b[38;5;28;01mif\u001b[39;00m \u001b[38;5;129;01mnot\u001b[39;00m \u001b[38;5;28mself\u001b[39m\u001b[38;5;241m.\u001b[39m_subscription\u001b[38;5;241m.\u001b[39mhas_all_fetch_positions():\n",
      "File \u001b[0;32m/opt/conda/lib/python3.10/site-packages/kafka/coordinator/consumer.py:289\u001b[0m, in \u001b[0;36mConsumerCoordinator.poll\u001b[0;34m(self)\u001b[0m\n\u001b[1;32m    286\u001b[0m             metadata_update \u001b[38;5;241m=\u001b[39m \u001b[38;5;28mself\u001b[39m\u001b[38;5;241m.\u001b[39m_client\u001b[38;5;241m.\u001b[39mcluster\u001b[38;5;241m.\u001b[39mrequest_update()\n\u001b[1;32m    287\u001b[0m             \u001b[38;5;28mself\u001b[39m\u001b[38;5;241m.\u001b[39m_client\u001b[38;5;241m.\u001b[39mpoll(future\u001b[38;5;241m=\u001b[39mmetadata_update)\n\u001b[0;32m--> 289\u001b[0m         \u001b[38;5;28;43mself\u001b[39;49m\u001b[38;5;241;43m.\u001b[39;49m\u001b[43mensure_active_group\u001b[49m\u001b[43m(\u001b[49m\u001b[43m)\u001b[49m\n\u001b[1;32m    291\u001b[0m     \u001b[38;5;28mself\u001b[39m\u001b[38;5;241m.\u001b[39mpoll_heartbeat()\n\u001b[1;32m    293\u001b[0m \u001b[38;5;28mself\u001b[39m\u001b[38;5;241m.\u001b[39m_maybe_auto_commit_offsets_async()\n",
      "File \u001b[0;32m/opt/conda/lib/python3.10/site-packages/kafka/coordinator/base.py:407\u001b[0m, in \u001b[0;36mBaseCoordinator.ensure_active_group\u001b[0;34m(self)\u001b[0m\n\u001b[1;32m    404\u001b[0m \u001b[38;5;28;01melse\u001b[39;00m:\n\u001b[1;32m    405\u001b[0m     future \u001b[38;5;241m=\u001b[39m \u001b[38;5;28mself\u001b[39m\u001b[38;5;241m.\u001b[39mjoin_future\n\u001b[0;32m--> 407\u001b[0m \u001b[38;5;28;43mself\u001b[39;49m\u001b[38;5;241;43m.\u001b[39;49m\u001b[43m_client\u001b[49m\u001b[38;5;241;43m.\u001b[39;49m\u001b[43mpoll\u001b[49m\u001b[43m(\u001b[49m\u001b[43mfuture\u001b[49m\u001b[38;5;241;43m=\u001b[39;49m\u001b[43mfuture\u001b[49m\u001b[43m)\u001b[49m\n\u001b[1;32m    409\u001b[0m \u001b[38;5;28;01mif\u001b[39;00m future\u001b[38;5;241m.\u001b[39msucceeded():\n\u001b[1;32m    410\u001b[0m     \u001b[38;5;28mself\u001b[39m\u001b[38;5;241m.\u001b[39m_on_join_complete(\u001b[38;5;28mself\u001b[39m\u001b[38;5;241m.\u001b[39m_generation\u001b[38;5;241m.\u001b[39mgeneration_id,\n\u001b[1;32m    411\u001b[0m                            \u001b[38;5;28mself\u001b[39m\u001b[38;5;241m.\u001b[39m_generation\u001b[38;5;241m.\u001b[39mmember_id,\n\u001b[1;32m    412\u001b[0m                            \u001b[38;5;28mself\u001b[39m\u001b[38;5;241m.\u001b[39m_generation\u001b[38;5;241m.\u001b[39mprotocol,\n\u001b[1;32m    413\u001b[0m                            future\u001b[38;5;241m.\u001b[39mvalue)\n",
      "File \u001b[0;32m/opt/conda/lib/python3.10/site-packages/kafka/client_async.py:602\u001b[0m, in \u001b[0;36mKafkaClient.poll\u001b[0;34m(self, timeout_ms, future)\u001b[0m\n\u001b[1;32m    599\u001b[0m             timeout \u001b[38;5;241m=\u001b[39m \u001b[38;5;28mmin\u001b[39m(timeout, \u001b[38;5;28mself\u001b[39m\u001b[38;5;241m.\u001b[39mconfig[\u001b[38;5;124m'\u001b[39m\u001b[38;5;124mretry_backoff_ms\u001b[39m\u001b[38;5;124m'\u001b[39m])\n\u001b[1;32m    600\u001b[0m         timeout \u001b[38;5;241m=\u001b[39m \u001b[38;5;28mmax\u001b[39m(\u001b[38;5;241m0\u001b[39m, timeout)  \u001b[38;5;66;03m# avoid negative timeouts\u001b[39;00m\n\u001b[0;32m--> 602\u001b[0m     \u001b[38;5;28;43mself\u001b[39;49m\u001b[38;5;241;43m.\u001b[39;49m\u001b[43m_poll\u001b[49m\u001b[43m(\u001b[49m\u001b[43mtimeout\u001b[49m\u001b[43m \u001b[49m\u001b[38;5;241;43m/\u001b[39;49m\u001b[43m \u001b[49m\u001b[38;5;241;43m1000\u001b[39;49m\u001b[43m)\u001b[49m\n\u001b[1;32m    604\u001b[0m \u001b[38;5;66;03m# called without the lock to avoid deadlock potential\u001b[39;00m\n\u001b[1;32m    605\u001b[0m \u001b[38;5;66;03m# if handlers need to acquire locks\u001b[39;00m\n\u001b[1;32m    606\u001b[0m responses\u001b[38;5;241m.\u001b[39mextend(\u001b[38;5;28mself\u001b[39m\u001b[38;5;241m.\u001b[39m_fire_pending_completed_requests())\n",
      "File \u001b[0;32m/opt/conda/lib/python3.10/site-packages/kafka/client_async.py:634\u001b[0m, in \u001b[0;36mKafkaClient._poll\u001b[0;34m(self, timeout)\u001b[0m\n\u001b[1;32m    631\u001b[0m \u001b[38;5;28mself\u001b[39m\u001b[38;5;241m.\u001b[39m_register_send_sockets()\n\u001b[1;32m    633\u001b[0m start_select \u001b[38;5;241m=\u001b[39m time\u001b[38;5;241m.\u001b[39mtime()\n\u001b[0;32m--> 634\u001b[0m ready \u001b[38;5;241m=\u001b[39m \u001b[38;5;28;43mself\u001b[39;49m\u001b[38;5;241;43m.\u001b[39;49m\u001b[43m_selector\u001b[49m\u001b[38;5;241;43m.\u001b[39;49m\u001b[43mselect\u001b[49m\u001b[43m(\u001b[49m\u001b[43mtimeout\u001b[49m\u001b[43m)\u001b[49m\n\u001b[1;32m    635\u001b[0m end_select \u001b[38;5;241m=\u001b[39m time\u001b[38;5;241m.\u001b[39mtime()\n\u001b[1;32m    636\u001b[0m \u001b[38;5;28;01mif\u001b[39;00m \u001b[38;5;28mself\u001b[39m\u001b[38;5;241m.\u001b[39m_sensors:\n",
      "File \u001b[0;32m/opt/conda/lib/python3.10/selectors.py:469\u001b[0m, in \u001b[0;36mEpollSelector.select\u001b[0;34m(self, timeout)\u001b[0m\n\u001b[1;32m    467\u001b[0m ready \u001b[38;5;241m=\u001b[39m []\n\u001b[1;32m    468\u001b[0m \u001b[38;5;28;01mtry\u001b[39;00m:\n\u001b[0;32m--> 469\u001b[0m     fd_event_list \u001b[38;5;241m=\u001b[39m \u001b[38;5;28;43mself\u001b[39;49m\u001b[38;5;241;43m.\u001b[39;49m\u001b[43m_selector\u001b[49m\u001b[38;5;241;43m.\u001b[39;49m\u001b[43mpoll\u001b[49m\u001b[43m(\u001b[49m\u001b[43mtimeout\u001b[49m\u001b[43m,\u001b[49m\u001b[43m \u001b[49m\u001b[43mmax_ev\u001b[49m\u001b[43m)\u001b[49m\n\u001b[1;32m    470\u001b[0m \u001b[38;5;28;01mexcept\u001b[39;00m \u001b[38;5;167;01mInterruptedError\u001b[39;00m:\n\u001b[1;32m    471\u001b[0m     \u001b[38;5;28;01mreturn\u001b[39;00m ready\n",
      "\u001b[0;31mKeyboardInterrupt\u001b[0m: "
     ]
    }
   ],
   "source": [
    "for message in consumer2:\n",
    "    print (\"%s:%d:%d: key=%s value=%s\" % (message.topic, message.partition,\n",
    "                                          message.offset, message.key,\n",
    "                                          message.value))"
   ]
  },
  {
   "cell_type": "code",
   "execution_count": null,
   "id": "f8d1859b-73c1-4c74-9865-8041640b5e67",
   "metadata": {},
   "outputs": [],
   "source": []
  }
 ],
 "metadata": {
  "kernelspec": {
   "display_name": "Python 3 (ipykernel)",
   "language": "python",
   "name": "python3"
  },
  "language_info": {
   "codemirror_mode": {
    "name": "ipython",
    "version": 3
   },
   "file_extension": ".py",
   "mimetype": "text/x-python",
   "name": "python",
   "nbconvert_exporter": "python",
   "pygments_lexer": "ipython3",
   "version": "3.10.10"
  }
 },
 "nbformat": 4,
 "nbformat_minor": 5
}
